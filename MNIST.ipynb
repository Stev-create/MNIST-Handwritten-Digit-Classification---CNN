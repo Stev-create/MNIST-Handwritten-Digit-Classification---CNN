{
 "cells": [
  {
   "cell_type": "code",
   "execution_count": 1,
   "metadata": {
    "ExecuteTime": {
     "end_time": "2021-06-26T08:44:40.891808Z",
     "start_time": "2021-06-26T08:44:37.898237Z"
    }
   },
   "outputs": [],
   "source": [
    "import numpy as np\n",
    "import keras\n",
    "import matplotlib.pyplot as plt\n",
    "from tensorflow.keras.datasets import mnist"
   ]
  },
  {
   "cell_type": "markdown",
   "metadata": {},
   "source": [
    "# Import data"
   ]
  },
  {
   "cell_type": "code",
   "execution_count": 2,
   "metadata": {
    "ExecuteTime": {
     "end_time": "2021-06-26T08:44:41.195830Z",
     "start_time": "2021-06-26T08:44:40.893809Z"
    }
   },
   "outputs": [
    {
     "data": {
      "text/plain": [
       "((60000, 28, 28), (60000,), (10000, 28, 28), (10000,))"
      ]
     },
     "execution_count": 2,
     "metadata": {},
     "output_type": "execute_result"
    }
   ],
   "source": [
    "(X_train, y_train), (X_test, y_test) = mnist.load_data()\n",
    "\n",
    "X_train.shape, y_train.shape, X_test.shape, y_test.shape"
   ]
  },
  {
   "cell_type": "code",
   "execution_count": 3,
   "metadata": {
    "ExecuteTime": {
     "end_time": "2021-06-26T08:44:41.211833Z",
     "start_time": "2021-06-26T08:44:41.198832Z"
    }
   },
   "outputs": [],
   "source": [
    "img_r = X_train[0].shape[0]\n",
    "img_c = X_train[0].shape[1]\n",
    "\n",
    "X_train = X_train.reshape(X_train.shape[0], img_r, img_c, 1)\n",
    "X_test = X_test.reshape(X_test.shape[0], img_r, img_c, 1)"
   ]
  },
  {
   "cell_type": "code",
   "execution_count": 4,
   "metadata": {
    "ExecuteTime": {
     "end_time": "2021-06-26T08:44:41.227833Z",
     "start_time": "2021-06-26T08:44:41.213833Z"
    }
   },
   "outputs": [],
   "source": [
    "def plotIm(images_arr):\n",
    "    fig, axes = plt.subplots(1, 10, figsize=(20,20))\n",
    "    axes = axes.flatten()\n",
    "    for img, ax in zip( images_arr, axes):\n",
    "        ax.imshow(img)\n",
    "    plt.show()"
   ]
  },
  {
   "cell_type": "code",
   "execution_count": 5,
   "metadata": {
    "ExecuteTime": {
     "end_time": "2021-06-26T08:44:42.072091Z",
     "start_time": "2021-06-26T08:44:41.230835Z"
    }
   },
   "outputs": [
    {
     "data": {
      "image/png": "[encoded data removed]",
      "text/plain": [
       "<Figure size 1440x1440 with 10 Axes>"
      ]
     },
     "metadata": {
      "needs_background": "light"
     },
     "output_type": "display_data"
    }
   ],
   "source": [
    "plotIm(X_train[10:20])"
   ]
  },
  {
   "cell_type": "markdown",
   "metadata": {},
   "source": [
    "# Create a CNN"
   ]
  },
  {
   "cell_type": "code",
   "execution_count": 6,
   "metadata": {
    "ExecuteTime": {
     "end_time": "2021-06-26T08:44:42.152098Z",
     "start_time": "2021-06-26T08:44:42.073092Z"
    }
   },
   "outputs": [],
   "source": [
    "model = keras.Sequential([\n",
    "    keras.layers.Conv2D(32, (5, 5), activation = 'relu', padding = 'same', input_shape = (28,28,1)),\n",
    "    keras.layers.MaxPooling2D(pool_size = (2,2), padding = 'same'),\n",
    "    keras.layers.Flatten(),\n",
    "    keras.layers.Dense(64, activation = 'relu'),\n",
    "    keras.layers.Dropout(0.5),\n",
    "    keras.layers.Dense(10, activation = 'softmax')\n",
    "])"
   ]
  },
  {
   "cell_type": "code",
   "execution_count": 7,
   "metadata": {
    "ExecuteTime": {
     "end_time": "2021-06-26T08:44:42.168098Z",
     "start_time": "2021-06-26T08:44:42.153100Z"
    }
   },
   "outputs": [
    {
     "name": "stdout",
     "output_type": "stream",
     "text": [
      "Model: \"sequential\"\n",
      "_________________________________________________________________\n",
      "Layer (type)                 Output Shape              Param #   \n",
      "=================================================================\n",
      "conv2d (Conv2D)              (None, 28, 28, 32)        832       \n",
      "_________________________________________________________________\n",
      "max_pooling2d (MaxPooling2D) (None, 14, 14, 32)        0         \n",
      "_________________________________________________________________\n",
      "flatten (Flatten)            (None, 6272)              0         \n",
      "_________________________________________________________________\n",
      "dense (Dense)                (None, 64)                401472    \n",
      "_________________________________________________________________\n",
      "dropout (Dropout)            (None, 64)                0         \n",
      "_________________________________________________________________\n",
      "dense_1 (Dense)              (None, 10)                650       \n",
      "=================================================================\n",
      "Total params: 402,954\n",
      "Trainable params: 402,954\n",
      "Non-trainable params: 0\n",
      "_________________________________________________________________\n"
     ]
    }
   ],
   "source": [
    "model.summary()"
   ]
  },
  {
   "cell_type": "code",
   "execution_count": 8,
   "metadata": {
    "ExecuteTime": {
     "end_time": "2021-06-26T08:44:42.199100Z",
     "start_time": "2021-06-26T08:44:42.171103Z"
    }
   },
   "outputs": [],
   "source": [
    "model.compile(optimizer= 'adam',\n",
    "              loss= keras.losses.SparseCategoricalCrossentropy(from_logits=True),\n",
    "              metrics=['sparse_categorical_accuracy']\n",
    "              )"
   ]
  },
  {
   "cell_type": "markdown",
   "metadata": {},
   "source": [
    "# Training the model"
   ]
  },
  {
   "cell_type": "code",
   "execution_count": 9,
   "metadata": {
    "ExecuteTime": {
     "end_time": "2021-06-26T08:47:03.606428Z",
     "start_time": "2021-06-26T08:44:42.201102Z"
    },
    "scrolled": true
   },
   "outputs": [
    {
     "name": "stdout",
     "output_type": "stream",
     "text": [
      "Epoch 1/10\n",
      "540/540 [==============================] - 16s 28ms/step - loss: 3.7898 - sparse_categorical_accuracy: 0.2095 - val_loss: 1.7677 - val_sparse_categorical_accuracy: 0.3267\n",
      "Epoch 2/10\n",
      "540/540 [==============================] - 14s 26ms/step - loss: 1.9205 - sparse_categorical_accuracy: 0.2705 - val_loss: 1.2653 - val_sparse_categorical_accuracy: 0.5690\n",
      "Epoch 3/10\n",
      "540/540 [==============================] - 14s 26ms/step - loss: 1.5449 - sparse_categorical_accuracy: 0.4120 - val_loss: 0.2814 - val_sparse_categorical_accuracy: 0.9457\n",
      "Epoch 4/10\n",
      "540/540 [==============================] - 14s 26ms/step - loss: 0.7633 - sparse_categorical_accuracy: 0.7232 - val_loss: 0.1006 - val_sparse_categorical_accuracy: 0.9753\n",
      "Epoch 5/10\n",
      "540/540 [==============================] - 14s 26ms/step - loss: 0.3796 - sparse_categorical_accuracy: 0.8739 - val_loss: 0.0774 - val_sparse_categorical_accuracy: 0.9797\n",
      "Epoch 6/10\n",
      "540/540 [==============================] - 14s 26ms/step - loss: 0.2638 - sparse_categorical_accuracy: 0.9109 - val_loss: 0.0730 - val_sparse_categorical_accuracy: 0.9813\n",
      "Epoch 7/10\n",
      "540/540 [==============================] - 14s 26ms/step - loss: 0.2080 - sparse_categorical_accuracy: 0.9319 - val_loss: 0.0663 - val_sparse_categorical_accuracy: 0.9852\n",
      "Epoch 8/10\n",
      "540/540 [==============================] - 14s 26ms/step - loss: 0.1728 - sparse_categorical_accuracy: 0.9432 - val_loss: 0.0685 - val_sparse_categorical_accuracy: 0.9853\n",
      "Epoch 9/10\n",
      "540/540 [==============================] - 14s 26ms/step - loss: 0.1560 - sparse_categorical_accuracy: 0.9498 - val_loss: 0.0732 - val_sparse_categorical_accuracy: 0.9848\n",
      "Epoch 10/10\n",
      "540/540 [==============================] - 14s 26ms/step - loss: 0.1430 - sparse_categorical_accuracy: 0.9547 - val_loss: 0.0765 - val_sparse_categorical_accuracy: 0.9827\n"
     ]
    }
   ],
   "source": [
    "history = model.fit(X_train, y_train,\n",
    "                    batch_size= 100,\n",
    "                    epochs= 10,\n",
    "#                     steps_per_epoch=steps_per_epoch,\n",
    "                    validation_split=0.1, \n",
    "#                     validation_steps=validation_steps\n",
    "                    )"
   ]
  },
  {
   "cell_type": "code",
   "execution_count": 10,
   "metadata": {
    "ExecuteTime": {
     "end_time": "2021-06-26T08:47:05.102856Z",
     "start_time": "2021-06-26T08:47:03.607428Z"
    }
   },
   "outputs": [
    {
     "name": "stdout",
     "output_type": "stream",
     "text": [
      "313/313 [==============================] - 1s 4ms/step - loss: 0.0807 - sparse_categorical_accuracy: 0.9801\n",
      "[0.08069019764661789, 0.9800999760627747]\n"
     ]
    }
   ],
   "source": [
    "# Evaluate the best model with testing data.\n",
    "print(model.evaluate(X_test, y_test))"
   ]
  },
  {
   "cell_type": "markdown",
   "metadata": {},
   "source": [
    "# Sanity Check"
   ]
  },
  {
   "cell_type": "code",
   "execution_count": 12,
   "metadata": {
    "ExecuteTime": {
     "end_time": "2021-06-26T08:48:15.043126Z",
     "start_time": "2021-06-26T08:48:14.253822Z"
    },
    "scrolled": true
   },
   "outputs": [
    {
     "data": {
      "image/png": "[encoded data removed]",
      "text/plain": [
       "<Figure size 1440x1440 with 10 Axes>"
      ]
     },
     "metadata": {
      "needs_background": "light"
     },
     "output_type": "display_data"
    }
   ],
   "source": [
    "plotIm(X_test[20:30])"
   ]
  },
  {
   "cell_type": "code",
   "execution_count": 14,
   "metadata": {
    "ExecuteTime": {
     "end_time": "2021-06-26T08:49:41.259984Z",
     "start_time": "2021-06-26T08:49:41.173983Z"
    },
    "scrolled": true
   },
   "outputs": [
    {
     "name": "stdout",
     "output_type": "stream",
     "text": [
      "[9 6 6 5 4 0 7 4 0 1]\n"
     ]
    }
   ],
   "source": [
    "pred = np.argmax(model.predict(X_test[20:30]), axis=-1)\n",
    "print(pred)"
   ]
  }
 ],
 "metadata": {
  "hide_input": false,
  "kernelspec": {
   "display_name": "Python 3",
   "language": "python",
   "name": "python3"
  },
  "language_info": {
   "codemirror_mode": {
    "name": "ipython",
    "version": 3
   },
   "file_extension": ".py",
   "mimetype": "text/x-python",
   "name": "python",
   "nbconvert_exporter": "python",
   "pygments_lexer": "ipython3",
   "version": "3.8.5"
  },
  "toc": {
   "base_numbering": 1,
   "nav_menu": {},
   "number_sections": true,
   "sideBar": true,
   "skip_h1_title": false,
   "title_cell": "Table of Contents",
   "title_sidebar": "Contents",
   "toc_cell": false,
   "toc_position": {},
   "toc_section_display": true,
   "toc_window_display": false
  }
 },
 "nbformat": 4,
 "nbformat_minor": 4
}
